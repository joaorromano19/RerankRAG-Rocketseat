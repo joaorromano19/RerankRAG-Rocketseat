{
 "cells": [
  {
   "cell_type": "code",
   "execution_count": null,
   "id": "4f81d687",
   "metadata": {},
   "outputs": [],
   "source": [
    "from langchain_text_splitters import RecursiveCharacterTextSplitter\n",
    "from langchain_openai import ChatOpenAI\n",
    "from langchain_chroma import Chroma\n",
    "from langchain_community.document_loaders import PyPDFLoader\n",
    "from langchain_openai import OpenAIEmbeddings\n",
    "from langchain_core.prompts import ChatPromptTemplate\n",
    "from langchain_core.runnables import RunnableParallel, RunnablePassthrough\n",
    "from langchain_core.output_parsers import StrOutputParser\n",
    "from langchain.retrievers.contextual_compression import ContextualCompressionRetriever\n",
    "from langchain_cohere import CohereRerank"
   ]
  },
  {
   "cell_type": "code",
   "execution_count": null,
   "id": "24e95878",
   "metadata": {},
   "outputs": [],
   "source": [
    "import os\n",
    "os.environ['OPENAI_API_KEY'] = \"Sua chave API\""
   ]
  },
  {
   "cell_type": "code",
   "execution_count": null,
   "id": "7be12fbe",
   "metadata": {},
   "outputs": [],
   "source": [
    "# Carregar modelos OpenAI - Embeddings e Chat \n",
    "embeddings_model = OpenAIEmbeddings(model = \"text-embeddings-3-small\")\n",
    "llm = ChatOpenAI(model_name = \"gpt-3.5-turbo\")"
   ]
  },
  {
   "cell_type": "code",
   "execution_count": null,
   "id": "e1b1ff3f",
   "metadata": {},
   "outputs": [],
   "source": [
    "# Carregar PDF\n",
    "pdf = PyPDFLoader(file_path = \"Seu PDF\", extract_images = False)\n",
    "\n",
    "pages = pdf.load_and_split()"
   ]
  },
  {
   "cell_type": "code",
   "execution_count": null,
   "id": "1645a49b",
   "metadata": {},
   "outputs": [],
   "source": [
    "# Separar em Chunks\n",
    "text_spliter = RecursiveCharacterTextSplitter(\n",
    "    chunk_size=4000, \n",
    "    chunk_overlap=20, \n",
    "    length_function=len, \n",
    "    add_start_index=True\n",
    ")\n",
    "\n",
    "chunk = text_spliter.split_documents(pages)"
   ]
  },
  {
   "cell_type": "code",
   "execution_count": null,
   "id": "f44bf289",
   "metadata": {},
   "outputs": [],
   "source": [
    "# Salvar os chunks no VectorDB\n",
    "vectorDB = Chroma(embedding_function = embeddings_model, persist_directory = \"naiveDB\")"
   ]
  },
  {
   "cell_type": "code",
   "execution_count": null,
   "id": "d3c30b89",
   "metadata": {},
   "outputs": [],
   "source": [
    "# Carregar o DB\n",
    "naive_retriever = vectorDB.as_retriever(kwargs = {\"k\": 10})"
   ]
  },
  {
   "cell_type": "code",
   "execution_count": null,
   "id": "3456c90b",
   "metadata": {},
   "outputs": [],
   "source": [
    "os.environ[\"COHERE_API_KEY\"] = \"Sua chave cohere\""
   ]
  },
  {
   "cell_type": "code",
   "execution_count": null,
   "id": "5de661d9",
   "metadata": {},
   "outputs": [],
   "source": [
    "rerank = CohereRerank(model = \"rerank-v3.5\",  top_n=3)\n",
    "\n",
    "compression_retriever = ContextualCompressionRetriever(\n",
    "    base_compressor = rerank,\n",
    "    base_retriever = naive_retriever\n",
    ")"
   ]
  },
  {
   "cell_type": "code",
   "execution_count": null,
   "id": "a25b226f",
   "metadata": {},
   "outputs": [],
   "source": [
    "TEMPLATE = \"\"\"\n",
    "    Sua especificação do que o agente de ia é...\n",
    "    \n",
    "    Querry:\n",
    "    {questio}\n",
    "\n",
    "    Context\n",
    "    {constext}\n",
    "\"\"\"\n",
    "\n",
    "reg_prompt = ChatPromptTemplate.from_template(TEMPLATE)"
   ]
  },
  {
   "cell_type": "code",
   "execution_count": null,
   "id": "41392c80",
   "metadata": {},
   "outputs": [],
   "source": [
    "setup_retrieval = RunnableParallel({\"question\": RunnablePassthrough(), \"context\": compression_retriever})\n",
    "\n",
    "output_parser = StrOutputParser()\n",
    "\n",
    "compression_retrieval_chain = setup_retrieval | reg_prompt | llm | output_parser"
   ]
  },
  {
   "cell_type": "code",
   "execution_count": null,
   "id": "b3b8fb4b",
   "metadata": {},
   "outputs": [],
   "source": [
    "compression_retrieval_chain.invoke(\"Faça sua pergunta...\")"
   ]
  }
 ],
 "metadata": {
  "kernelspec": {
   "display_name": "venv (3.13.7)",
   "language": "python",
   "name": "python3"
  },
  "language_info": {
   "codemirror_mode": {
    "name": "ipython",
    "version": 3
   },
   "file_extension": ".py",
   "mimetype": "text/x-python",
   "name": "python",
   "nbconvert_exporter": "python",
   "pygments_lexer": "ipython3",
   "version": "3.13.7"
  }
 },
 "nbformat": 4,
 "nbformat_minor": 5
}
